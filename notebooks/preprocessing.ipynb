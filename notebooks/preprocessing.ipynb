{
 "cells": [
  {
   "cell_type": "markdown",
   "id": "7434dfb5-837d-4495-9e1c-66ae43ce88b0",
   "metadata": {},
   "source": [
    "## Initialize the environment"
   ]
  },
  {
   "cell_type": "code",
   "execution_count": null,
   "id": "8e514535-adf1-4ea4-9d61-efa2f185b71e",
   "metadata": {},
   "outputs": [],
   "source": [
    "%load_ext sparkmagic.magics"
   ]
  },
  {
   "cell_type": "code",
   "execution_count": null,
   "id": "aad7f3a7-fe4d-468d-8f3a-73ca9cbea794",
   "metadata": {},
   "outputs": [],
   "source": [
    "import os\n",
    "from IPython import get_ipython\n",
    "server = \"http://iccluster044.iccluster.epfl.ch:8998\"\n",
    "username = os.environ['RENKU_USERNAME']\n",
    "print(username)"
   ]
  },
  {
   "cell_type": "code",
   "execution_count": null,
   "id": "21e31c9e-b065-40cb-af82-a2996a263d49",
   "metadata": {},
   "outputs": [],
   "source": [
    "get_ipython().run_cell_magic(\n",
    "    'spark',\n",
    "    line='config', \n",
    "    cell=\"\"\"{{ \"name\": \"{0}-homework3\", \"executorMemory\": \"4G\", \"executorCores\": 4, \"numExecutors\": 10, \"driverMemory\": \"4G\" }}\"\"\".format(username)\n",
    ")"
   ]
  },
  {
   "cell_type": "markdown",
   "id": "28eb834c-dac0-40c3-8ab1-341ad68e06d8",
   "metadata": {},
   "source": [
    "Send `username` to Spark kernel, which will first start the Spark application if there is no active session."
   ]
  },
  {
   "cell_type": "code",
   "execution_count": null,
   "id": "3799fc32-4a79-4621-9a4b-e05b955e36bc",
   "metadata": {},
   "outputs": [],
   "source": [
    "get_ipython().run_line_magic(\n",
    "    \"spark\", f\"\"\"add -s {username}-homework3 -l python -u {server} -k\"\"\"\n",
    ")"
   ]
  },
  {
   "cell_type": "code",
   "execution_count": null,
   "id": "8facbff6-b9d0-4144-8adb-ab581a2d5efe",
   "metadata": {},
   "outputs": [],
   "source": [
    "%%spark\n",
    "import pyspark.sql.functions as F\n",
    "print('We are using Spark %s' % spark.version)"
   ]
  },
  {
   "cell_type": "markdown",
   "id": "cf387e8b-d5db-4adb-95d5-2add951bfc01",
   "metadata": {},
   "source": [
    "# Pre-processing"
   ]
  },
  {
   "cell_type": "markdown",
   "id": "bb0042aa-8290-4b5b-ab46-c324a1102634",
   "metadata": {},
   "source": [
    "We picked the week starting April 17th (which is announced by SBB on Aptil 12th) to make our public infrastructure model because there ain't no bank holidays in Switzerland that week. And since our planner only deals with weekdays as same, we started by removing services that ain't available every day of the week."
   ]
  },
  {
   "cell_type": "code",
   "execution_count": null,
   "id": "75feacdf-700c-4e70-b712-c57388cfa68a",
   "metadata": {},
   "outputs": [],
   "source": [
    "%%spark\n",
    "WEEK = 'year=2023/month=04/day=12/'"
   ]
  },
  {
   "cell_type": "code",
   "execution_count": null,
   "id": "aa2c3d6b-a9aa-4529-9826-d0629e196891",
   "metadata": {},
   "outputs": [],
   "source": [
    "%%spark\n",
    "TRIPS_PATH = '/data/sbb/part_csv/timetables/trips/' + WEEK + 'trips.txt'\n",
    "CALENDAR_PATH = '/data/sbb/part_csv/timetables/calendar/' + WEEK + 'calendar.txt'\n",
    "STOP_TIMES_PATH = '/data/sbb/part_csv/timetables/stop_times/' + WEEK + 'stop_times.txt'\n",
    "stops_path = '/data/sbb/part_csv/timetables/stops/' + WEEK + 'stops.txt'\n",
    "\n",
    "stops = spark.read.csv(stops_path, sep=',', header=True, inferSchema=True)\n",
    "stop_times = spark.read.csv(STOP_TIMES_PATH, sep=',', header=True, inferSchema=True)\n",
    "calendar = spark.read.csv(CALENDAR_PATH, sep=',', header=True, inferSchema=True)\n",
    "trips = spark.read.csv(TRIPS_PATH, sep=',', header=True, inferSchema=True)\n"
   ]
  },
  {
   "cell_type": "code",
   "execution_count": null,
   "id": "918415fb-99de-4ec0-b8a8-7d516f83cad4",
   "metadata": {},
   "outputs": [],
   "source": [
    "%%spark\n",
    "trips.show(5)\n",
    "stop_times.show(5)\n",
    "calendar.show(5)\n",
    "stops.show(5)"
   ]
  },
  {
   "cell_type": "markdown",
   "id": "1f17fb1c-a374-4600-9890-3fcf83d9f4a8",
   "metadata": {
    "tags": []
   },
   "source": [
    "## Keep only services that operate on weekdays"
   ]
  },
  {
   "cell_type": "code",
   "execution_count": null,
   "id": "14031504-1d4f-41c0-b920-a94c9921ed10",
   "metadata": {},
   "outputs": [],
   "source": [
    "%%spark\n",
    "weekday_service_ids = calendar.filter(\n",
    "                  (calendar.monday == 1)\n",
    "                & (calendar.tuesday  == 1)\n",
    "                & (calendar.wednesday == 1)\n",
    "                & (calendar.thursday == 1)\n",
    "                & (calendar.friday == 1)).select('service_id')\n",
    "\n",
    "weekday_service_ids.show(5)\n",
    "weekday_service_ids.count()"
   ]
  },
  {
   "cell_type": "code",
   "execution_count": null,
   "id": "da3495b0-a3c6-43ee-b9f4-5b48abb33a80",
   "metadata": {},
   "outputs": [],
   "source": [
    "%%spark\n",
    "weekday_trips = trips.join(\n",
    "    weekday_service_ids,\n",
    "    on='service_id',\n",
    "    how='inner'\n",
    ").distinct()\n",
    "\n",
    "weekday_trips.show(5)\n",
    "weekday_trips.count()"
   ]
  },
  {
   "cell_type": "markdown",
   "id": "30107a8b-646d-4574-bc96-cf8cc5915bff",
   "metadata": {},
   "source": [
    "## Merge with the stops"
   ]
  },
  {
   "cell_type": "code",
   "execution_count": null,
   "id": "778bd76d-f5b1-461c-8a65-226a4bd5a017",
   "metadata": {},
   "outputs": [],
   "source": [
    "%%spark\n",
    "nodes = weekday_trips.join(stop_times, on='trip_id', how='inner')\n",
    "\n",
    "nodes.show(5)"
   ]
  },
  {
   "cell_type": "code",
   "execution_count": null,
   "id": "57162134-a257-486b-b69d-9fc5ce5af4c5",
   "metadata": {},
   "outputs": [],
   "source": [
    "%%spark\n",
    "final_nodes = stops.join(nodes, on='stop_id', how='inner')\n",
    "\n",
    "final_nodes.show(5)"
   ]
  },
  {
   "cell_type": "code",
   "execution_count": null,
   "id": "bcdc8763-e6bb-45da-865a-1bbef83acfd4",
   "metadata": {},
   "outputs": [],
   "source": [
    "%%spark\n",
    "from pyspark.sql.functions import *\n",
    "nodes_arr = (final_nodes\n",
    "             .drop(\"departure_time\")\n",
    "             .withColumnRenamed(\"arrival_time\",\"time\")\n",
    "             .withColumn(\"is_arrival\",lit(1)))\n",
    "\n",
    "nodes_dep = (final_nodes\n",
    "             .drop(\"arrival_time\")\n",
    "             .withColumnRenamed(\"departure_time\",\"time\")\n",
    "             .withColumn(\"is_arrival\", lit(0)))\n",
    "\n",
    "nodes_2 = nodes_arr.union(nodes_dep)"
   ]
  },
  {
   "cell_type": "markdown",
   "id": "8cae35a3-b238-4772-ab75-a6a85a25a7c0",
   "metadata": {},
   "source": [
    "## Gather `stop_id`s around Zurich"
   ]
  },
  {
   "cell_type": "code",
   "execution_count": null,
   "id": "fbe14566-f3ac-48e8-bb2c-a52c6a4357e4",
   "metadata": {},
   "outputs": [],
   "source": [
    "%%spark\n",
    "from pyspark.sql import functions as F\n",
    "from math import radians, cos, sin, asin, sqrt, atan2\n",
    "\n",
    "@F.udf\n",
    "def haversine_distance(lat1, lon1, lat2=47.378177, lon2=8.540192):\n",
    "    \"\"\"\n",
    "    Calculates the Haversine distance between two sets of latitude and longitude coordinates.\n",
    "    \n",
    "    Parameters:\n",
    "    - lat1, lon1: Latitude and longitude of the first point in degrees.\n",
    "    - lat2, lon2: Latitude and longitude of the second point in degrees. (default: Zurich coordinates)\n",
    "    \n",
    "    Returns:\n",
    "    The Haversine distance between the two points in meters.\n",
    "    \"\"\"\n",
    "    \n",
    "    # Convert degrees to radians\n",
    "    lat1_rad, lon1_rad, lat2_rad, lon2_rad = map(radians,[lat1, lon1, lat2, lon2])\n",
    "    \n",
    "    # Calculate the differences\n",
    "    dlat = lat2_rad - lat1_rad\n",
    "    dlon = lon2_rad - lon1_rad\n",
    "    \n",
    "    # Apply Haversine formula\n",
    "    a = sin(dlat / 2) ** 2 + cos(lat1_rad) * cos(lat2_rad) * sin(dlon / 2) ** 2\n",
    "    c = 2 * atan2(sqrt(a), sqrt(1 - a))\n",
    "    R = 6371e3 # Earth's radius in meters\n",
    "    distance = R * c\n",
    "    \n",
    "    return distance"
   ]
  },
  {
   "cell_type": "code",
   "execution_count": null,
   "id": "601ac500-6f92-48e5-9cc0-3065a2176751",
   "metadata": {},
   "outputs": [],
   "source": [
    "%%spark\n",
    "RADIUS = 15e3\n",
    "MARGIN = 0.2*RADIUS\n",
    "\n",
    "stops_zurich = nodes_2.filter(haversine_distance(stops.stop_lat, stops.stop_lon) < RADIUS + MARGIN)\n",
    "nodes_zurich = stops_zurich.select(\n",
    "stops_zurich.stop_id,\n",
    "stops_zurich.stop_name,\n",
    "stops_zurich.stop_lat,\n",
    "stops_zurich.stop_lon,\n",
    "stops_zurich.parent_station).distinct()"
   ]
  },
  {
   "cell_type": "code",
   "execution_count": null,
   "id": "82a7cafe-2b7c-4a57-93fe-0eb81197e425",
   "metadata": {},
   "outputs": [],
   "source": [
    "%%spark\n",
    "nodes_zurich.show(6)\n",
    "nodes_zurich.count()"
   ]
  },
  {
   "cell_type": "markdown",
   "id": "1a073ff3-0d8f-4c16-a055-d4b4014f9fec",
   "metadata": {},
   "source": [
    "## Create a Unique ID"
   ]
  },
  {
   "cell_type": "code",
   "execution_count": null,
   "id": "b9f35bee-bd53-48db-982e-84486e9ed6e7",
   "metadata": {},
   "outputs": [],
   "source": [
    "%%spark\n",
    "stops_zurich = stops_zurich.withColumn(\"unique_stop_id\",\n",
    "                                       F.concat_ws(\"_\", stops_zurich.stop_id,\n",
    "                                                stops_zurich.time,\n",
    "                                                stops_zurich.trip_id,\n",
    "                                                stops_zurich.is_arrival))"
   ]
  },
  {
   "cell_type": "code",
   "execution_count": null,
   "id": "844f396a-c595-4426-ac53-b4c760c237be",
   "metadata": {},
   "outputs": [],
   "source": [
    "%%spark\n",
    "stops_zh_dist= stops_zurich.select(\"stop_id\", \"trip_id\",\"route_id\",\"unique_stop_id\",\"time\").distinct()"
   ]
  },
  {
   "cell_type": "code",
   "execution_count": null,
   "id": "a43bf660-6618-4824-a0cf-96a1c7539e2e",
   "metadata": {},
   "outputs": [],
   "source": [
    "%%spark\n",
    "\n",
    "stop_times_zh_arr = (stop_times.join(\n",
    "    stops_zh_dist.filter(col(\"is_arrival\")==1).select(\n",
    "        col(\"stop_id\"),\n",
    "        col(\"trip_id\"),\n",
    "        col(\"route_id\"),\n",
    "        col(\"unique_stop_id\"),\n",
    "        col(\"time\").alias(\"arrival_time\")\n",
    "), on=[\"stop_id\", \"trip_id\",\"arrival_time\"], how=\"inner\"))\n",
    "stop_times_zh_dep = (stop_times.join(\n",
    "    stops_zh_dist.filter(col(\"is_arrival\")==0).select(\n",
    "        col(\"stop_id\"),\n",
    "        col(\"trip_id\"),\n",
    "        col(\"route_id\"),\n",
    "        col(\"unique_stop_id\"),\n",
    "        col(\"time\").alias(\"departure_time\")\n",
    "), on=[\"stop_id\", \"trip_id\",\"departure_time\"], how=\"inner\"))\n",
    "\n",
    "stop_times_zh = stop_times_zh_dep.union(stop_times_zh_arr)"
   ]
  },
  {
   "cell_type": "markdown",
   "id": "00c1f40d-b45c-4379-9c08-c2451c5a047c",
   "metadata": {},
   "source": [
    "## Building the edges"
   ]
  },
  {
   "cell_type": "code",
   "execution_count": null,
   "id": "002bb4a7-21ac-4ee2-98d9-b021bffdd65d",
   "metadata": {},
   "outputs": [],
   "source": [
    "%%spark\n",
    "from pyspark.sql.window import Window\n",
    "from pyspark.sql.functions import to_timestamp, col\n",
    "\n",
    "stop_times_zh_pairs = stop_times_zh.withColumn('stop_id_dest', F.lead('stop_id').over(Window.partitionBy('trip_id').orderBy([col('stop_sequence').asc(), col(\"departure_time\").asc(), col('unique_stop_id').desc()])))\n",
    "stop_times_zh_pairs = stop_times_zh_pairs.withColumn('arrival_time_dest', F.lead('arrival_time').over(Window.partitionBy('trip_id').orderBy([col('stop_sequence').asc(), col(\"departure_time\").asc(), col('unique_stop_id').desc()])))\n",
    "stop_times_zh_pairs = stop_times_zh_pairs.withColumn('unique_stop_id_dest', F.lead('unique_stop_id').over(Window.partitionBy('trip_id').orderBy([col('stop_sequence').asc(), col(\"departure_time\").asc(),col('unique_stop_id').desc()])))\n",
    "\n",
    "\n",
    "stop_times_zh_pairs = stop_times_zh_pairs.drop('arrival_time').withColumnRenamed('arrival_time_dest', 'arrival_time')\n",
    "\n",
    "stop_times_zh_pairs = stop_times_zh_pairs.dropna(subset='stop_id_dest')\n",
    "\n",
    "stop_times_zh_pairs = stop_times_zh_pairs.withColumn('expected_travel_time', F.unix_timestamp(stop_times_zh_pairs.arrival_time, 'HH:mm:ss') - F.unix_timestamp(stop_times_zh_pairs.departure_time, 'HH:mm:ss'))\n",
    "\n",
    "\n",
    "stop_times_zh_pairs = stop_times_zh_pairs.filter(stop_times_zh_pairs.stop_id != stop_times_zh_pairs.stop_id_dest)"
   ]
  },
  {
   "cell_type": "code",
   "execution_count": null,
   "id": "ed86880c-6c63-4b4d-98b0-d001730906b9",
   "metadata": {},
   "outputs": [],
   "source": [
    "%%spark\n",
    "\n",
    "stop_times_zh_pairs = stop_times_zh_pairs.select(\n",
    "    col(\"unique_stop_id\").alias(\"start_id\"),\n",
    "    col(\"unique_stop_id_dest\").alias(\"end_id\"),\n",
    "    col(\"expected_travel_time\"),\n",
    ")\n",
    "\n",
    "# Split start_id column into separate columns\n",
    "stop_times_zh_pairs = stop_times_zh_pairs.withColumn(\"start_id_parts\", split(col(\"start_id\"), \"_\"))\n",
    "stop_times_zh_pairs = stop_times_zh_pairs.withColumn(\"start_stop_id\", col(\"start_id_parts\")[0])\n",
    "stop_times_zh_pairs = stop_times_zh_pairs.withColumn(\"start_time\", col(\"start_id_parts\")[1])\n",
    "stop_times_zh_pairs = stop_times_zh_pairs.withColumn(\"trip_id\", col(\"start_id_parts\")[2])\n",
    "stop_times_zh_pairs = stop_times_zh_pairs.withColumn(\"start_is_arrival\", col(\"start_id_parts\")[3])\n",
    "\n",
    "# Split end_id column into separate columns\n",
    "stop_times_zh_pairs = stop_times_zh_pairs.withColumn(\"end_id_parts\", split(col(\"end_id\"), \"_\"))\n",
    "stop_times_zh_pairs = stop_times_zh_pairs.withColumn(\"end_stop_id\", col(\"end_id_parts\")[0])\n",
    "stop_times_zh_pairs = stop_times_zh_pairs.withColumn(\"end_time\", col(\"end_id_parts\")[1])\n",
    "stop_times_zh_pairs = stop_times_zh_pairs.withColumn(\"end_is_arrival\", col(\"end_id_parts\")[3])\n",
    "\n",
    "# Drop the intermediate columns\n",
    "stop_times_zh_pairs = stop_times_zh_pairs.drop(\"start_id_parts\", \"end_id_parts\",\"start_id\",\"end_id\", \"start_is_arrival\",\"end_is_arrival\") \n",
    "\n",
    "stop_times_zh_pairs = stop_times_zh_pairs.withColumn(\"is_walking\", lit(0))\n",
    "\n"
   ]
  },
  {
   "cell_type": "code",
   "execution_count": null,
   "id": "f9dd6fa6-e16e-4edd-933b-04d7b77cfbb7",
   "metadata": {},
   "outputs": [],
   "source": [
    "%%spark\n",
    "stop_times_zh_pairs.show(5)\n",
    "stop_times_zh_pairs.count()"
   ]
  },
  {
   "cell_type": "markdown",
   "id": "6427c83a-5ca1-4e1c-ac15-dea88a385d00",
   "metadata": {},
   "source": [
    "## Adding walking edges"
   ]
  },
  {
   "cell_type": "code",
   "execution_count": null,
   "id": "962c0938-fbe1-402c-b4bf-959bd8900f0a",
   "metadata": {},
   "outputs": [],
   "source": [
    "%%spark\n",
    "from pyspark.sql.functions import col \n",
    "\n",
    "time_in_station = 2*60\n",
    "\n",
    "\n",
    "same_station_different_platform_edges = (\n",
    "    stops_zurich\n",
    "    .select(\n",
    "        stops_zurich.stop_id.alias(\"stop_1\"),\n",
    "        stops_zurich.parent_station.alias(\"arr_par\"),\n",
    "        stops_zurich.stop_id.alias(\"start_stop_id\")\n",
    "    )\n",
    "    .crossJoin(\n",
    "        stops_zurich\n",
    "        .select(\n",
    "            stops_zurich.stop_id.alias(\"stop_2\"),\n",
    "            stops_zurich.parent_station.alias(\"dep_par\"),\n",
    "            stops_zurich.stop_id.alias(\"end_stop_id\")\n",
    "        )\n",
    "    )\n",
    "    .filter(\n",
    "        col(\"dep_par\").isNotNull() & col(\"arr_par\").isNotNull() &\n",
    "        (col(\"arr_par\") == col(\"dep_par\")) & (col('start_stop_id') != col('end_stop_id'))\n",
    "    ).withColumn(\"transfer_time\",lit(time_in_station)))\n",
    "\n",
    "same_station_different_platform_edges = same_station_different_platform_edges.select(\n",
    "same_station_different_platform_edges.stop_1,\n",
    "same_station_different_platform_edges.stop_2,\n",
    "same_station_different_platform_edges.transfer_time).distinct()\n",
    "    \n",
    "\n",
    "                            # .filter((col(\"waiting_time\") < 600) & (col(\"waiting_time\") >= 0)))\n",
    "\n",
    "different_station_within_walking_distance_edges = (       stops_zurich\n",
    "                            .select(stops_zurich.stop_id.alias(\"stop_1\"),\n",
    "                                      stops_zurich.stop_lat.alias(\"lat_1\"),\n",
    "                                      stops_zurich.stop_lon.alias(\"lon_1\"),\n",
    "                                      stops_zurich.parent_station.alias(\"par_1\")\n",
    "                                      ).distinct()\n",
    "                            .crossJoin(\n",
    "                                      stops_zurich\n",
    "                            .select(stops_zurich.stop_id.alias(\"stop_2\"),\n",
    "                                      stops_zurich.stop_lat.alias(\"lat_2\"),\n",
    "                                      stops_zurich.stop_lon.alias(\"lon_2\"),\n",
    "                                      stops_zurich.parent_station.alias(\"par_2\")\n",
    "                                   )).filter(expr(\"split(stop_1, ':')[0] != split(stop_2, ':')[0]\")).distinct().withColumn(\"distance\", haversine_distance(col(\"lat_1\"), col(\"lon_1\"), col(\"lat_2\"), col(\"lon_2\")))\n",
    "                .filter((col(\"distance\") <= 500 )&( col(\"distance\") > 0.0)).withColumn(\"transfer_time\", round(col(\"distance\")*(60.0/50),0)))\n",
    "                \n",
    "different_station_within_walking_distance_edges = different_station_within_walking_distance_edges.select(\n",
    "different_station_within_walking_distance_edges.stop_1,\n",
    "different_station_within_walking_distance_edges.stop_2,\n",
    "different_station_within_walking_distance_edges.transfer_time).distinct()\n"
   ]
  },
  {
   "cell_type": "code",
   "execution_count": null,
   "id": "23df3554-1db6-4710-a524-4da68b43480e",
   "metadata": {},
   "outputs": [],
   "source": [
    "%%spark\n",
    "same_station_different_platform_edges.show(5)\n",
    "same_station_different_platform_edges.count()\n"
   ]
  },
  {
   "cell_type": "code",
   "execution_count": null,
   "id": "1b0e76f0-095d-4156-bb20-a16645713399",
   "metadata": {},
   "outputs": [],
   "source": [
    "%%spark\n",
    "different_station_within_walking_distance_edges.show(5)\n",
    "different_station_within_walking_distance_edges.count()"
   ]
  },
  {
   "cell_type": "code",
   "execution_count": null,
   "id": "03c381c8-2b40-48ee-9776-f647d37ea214",
   "metadata": {},
   "outputs": [],
   "source": [
    "%%spark\n",
    "\n",
    "walking_edges = (different_station_within_walking_distance_edges.union(same_station_different_platform_edges)).withColumn(\"is_walking\",lit(1))#\n",
    "walking_edges=walking_edges.withColumnRenamed(\"stop_1\",\"start_stop_id\").withColumnRenamed(\"stop_2\",\"end_stop_id\").withColumnRenamed(\"transfer_time\",\"expected_travel_time\")\n",
    "walking_edges.cache()\n",
    "walking_edges.show(5)\n",
    "walking_edges.count()"
   ]
  },
  {
   "cell_type": "markdown",
   "id": "d14f0cd1-faa4-40fc-8314-14721a2c5cac",
   "metadata": {},
   "source": [
    "## Grouping all edges"
   ]
  },
  {
   "cell_type": "code",
   "execution_count": null,
   "id": "7f154b85-5065-42ff-af49-efbaa8a22918",
   "metadata": {},
   "outputs": [],
   "source": [
    "%%spark\n",
    "# Get the column sets of both DataFrames\n",
    "columns_df1 = set(walking_edges.columns)\n",
    "columns_df2 = set(stop_times_zh_pairs.columns)\n",
    "\n",
    "# Identify the DataFrame with the higher number of columns\n",
    "if len(columns_df1) >= len(columns_df2):\n",
    "    higher_columns = columns_df1\n",
    "    lower_columns = columns_df2\n",
    "    lower_df = stop_times_zh_pairs\n",
    "else:\n",
    "    higher_columns = columns_df2\n",
    "    lower_columns = columns_df1\n",
    "    lower_df = walking_edges\n",
    "\n",
    "# Add default values or nulls to the lower_df DataFrame\n",
    "for column in higher_columns - lower_columns:\n",
    "    lower_df = lower_df.withColumn(column, lit(None))  \n",
    "\n",
    "# Union the DataFrames\n",
    "complete_edges = stop_times_zh_pairs.unionByName(lower_df)\n"
   ]
  },
  {
   "cell_type": "code",
   "execution_count": null,
   "id": "cf41a21b-3d77-4e28-897a-71eb718b4d56",
   "metadata": {},
   "outputs": [],
   "source": [
    "%%spark\n",
    "complete_edges.cache()\n",
    "complete_edges.show(5)\n",
    "complete_edges.count()"
   ]
  },
  {
   "cell_type": "code",
   "execution_count": null,
   "id": "304d6664-113a-434c-a346-9e8fbdf4fd63",
   "metadata": {},
   "outputs": [],
   "source": [
    "%%spark\n",
    "nodes_zurich.write.save(\"/group/grande_envergure/graph/nodes_zurich.orc\", format=\"orc\", mode='overwrite')"
   ]
  },
  {
   "cell_type": "code",
   "execution_count": null,
   "id": "1d7b0114-5655-434d-84ab-5acaddd51a42",
   "metadata": {},
   "outputs": [],
   "source": [
    "%%spark\n",
    "complete_edges.write.save(\"/group/grande_envergure/graph/complete_edges.orc\", format=\"orc\", mode='overwrite')"
   ]
  }
 ],
 "metadata": {
  "kernelspec": {
   "display_name": "Python 3 (ipykernel)",
   "language": "python",
   "name": "python3"
  },
  "language_info": {
   "codemirror_mode": {
    "name": "ipython",
    "version": 3
   },
   "file_extension": ".py",
   "mimetype": "text/x-python",
   "name": "python",
   "nbconvert_exporter": "python",
   "pygments_lexer": "ipython3",
   "version": "3.9.12"
  }
 },
 "nbformat": 4,
 "nbformat_minor": 5
}
